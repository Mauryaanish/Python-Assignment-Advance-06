{
  "nbformat": 4,
  "nbformat_minor": 0,
  "metadata": {
    "colab": {
      "provenance": []
    },
    "kernelspec": {
      "name": "python3",
      "display_name": "Python 3"
    },
    "language_info": {
      "name": "python"
    }
  },
  "cells": [
    {
      "cell_type": "code",
      "execution_count": null,
      "metadata": {
        "id": "hoA29Ols6g8W"
      },
      "outputs": [],
      "source": []
    },
    {
      "cell_type": "markdown",
      "source": [
        "## Q1. Describe three applications for exception processing.\n",
        "\n",
        "Answer:- There are three types of exception—the checked exception, the error and the runtime exception"
      ],
      "metadata": {
        "id": "Ua9tOpbC7GaE"
      }
    },
    {
      "cell_type": "code",
      "source": [],
      "metadata": {
        "id": "uKk3gQiy7tsR"
      },
      "execution_count": null,
      "outputs": []
    },
    {
      "cell_type": "markdown",
      "source": [
        "## Q2. What happens if you don&#39;t do something extra to treat an exception?\n",
        "\n",
        "Answer:- When an exception occurred, if you don't handle it, the program terminates abruptly and the code past the line that caused the exception will not get executed"
      ],
      "metadata": {
        "id": "-Bol1FvL7uOC"
      }
    },
    {
      "cell_type": "code",
      "source": [],
      "metadata": {
        "id": "5jjFw5wO768O"
      },
      "execution_count": null,
      "outputs": []
    },
    {
      "cell_type": "markdown",
      "source": [
        "## Q3. What are your options for recovering from an exception in your script?\n",
        "\n",
        "answer:- ou can also provide a generic except clause, which handles any exception. After the except clause(s), you can include an else-clause. The code in the else-block executes if the code in the try: block does not raise an exception. The else-block is a good place for code that does not need the try: block's protection."
      ],
      "metadata": {
        "id": "fMV4J8ii77uc"
      }
    },
    {
      "cell_type": "code",
      "source": [],
      "metadata": {
        "id": "TQd1n-o18LFw"
      },
      "execution_count": null,
      "outputs": []
    },
    {
      "cell_type": "markdown",
      "source": [
        "## Q4. Describe two methods for triggering exceptions in your script.\n",
        "\n",
        "Answer:- To avoid such a scenario, there are two methods to handle Python exceptions: Try – This method catches the exceptions raised by the program. Raise – Triggers an exception manually using custom exceptions"
      ],
      "metadata": {
        "id": "Y2Np3-Ez8L6D"
      }
    },
    {
      "cell_type": "code",
      "source": [],
      "metadata": {
        "id": "kF2Civ-H8a0x"
      },
      "execution_count": null,
      "outputs": []
    },
    {
      "cell_type": "markdown",
      "source": [
        "## Q5. Identify two methods for specifying actions to be executed at termination time, regardless of\n",
        "whether or not an exception exists.\n",
        "\n",
        "Answer:- The statements in the finally block will always be executed, whether an exception is thrown or not. This clause is used to close the resources used in a code"
      ],
      "metadata": {
        "id": "b6BQ8-tZ8bRW"
      }
    },
    {
      "cell_type": "code",
      "source": [],
      "metadata": {
        "id": "kFChHqDS85Mu"
      },
      "execution_count": null,
      "outputs": []
    }
  ]
}